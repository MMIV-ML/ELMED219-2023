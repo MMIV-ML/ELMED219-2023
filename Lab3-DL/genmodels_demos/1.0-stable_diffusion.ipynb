{
 "cells": [
  {
   "attachments": {},
   "cell_type": "markdown",
   "id": "5d7dd18a-d599-47da-a865-772e97b72257",
   "metadata": {},
   "source": [
    "A.L. Lundervold, 19.01.23"
   ]
  },
  {
   "cell_type": "markdown",
   "id": "c987d0f4-c7c9-4f61-9bfd-f755de44d150",
   "metadata": {
    "tags": []
   },
   "source": [
    "# Introduction"
   ]
  },
  {
   "attachments": {},
   "cell_type": "markdown",
   "id": "4a2852f3-6f1e-4cf0-b056-13a1a5a32800",
   "metadata": {},
   "source": [
    "A very quick demo of stable diffusion. "
   ]
  },
  {
   "cell_type": "markdown",
   "id": "cdcb4055-b970-44b0-8a1c-16a0f1f17f37",
   "metadata": {
    "jp-MarkdownHeadingCollapsed": true,
    "tags": []
   },
   "source": [
    "# Setup"
   ]
  },
  {
   "cell_type": "code",
   "execution_count": null,
   "id": "f513630b-f9d2-4e5f-84b4-44b42c8536d6",
   "metadata": {},
   "outputs": [],
   "source": [
    "from IPython import display"
   ]
  },
  {
   "cell_type": "code",
   "execution_count": null,
   "id": "87577185-ccde-46d3-9ea0-4e696c4ef2b6",
   "metadata": {},
   "outputs": [],
   "source": [
    "import torch"
   ]
  },
  {
   "cell_type": "code",
   "execution_count": null,
   "id": "e72e84fb-cd6d-4813-98ab-496786aaf252",
   "metadata": {},
   "outputs": [],
   "source": [
    "print(torch.cuda.is_available())"
   ]
  },
  {
   "cell_type": "code",
   "execution_count": null,
   "id": "efa9276c-333c-428b-825d-88ff3bc0522d",
   "metadata": {},
   "outputs": [],
   "source": [
    "print(torch.cuda.get_device_name())"
   ]
  },
  {
   "cell_type": "markdown",
   "id": "181496a6-745d-4799-82f7-9cc22d89854c",
   "metadata": {},
   "source": [
    "We use the 🧨 Diffusers toolbox: https://huggingface.co/docs/diffusers/index"
   ]
  },
  {
   "cell_type": "code",
   "execution_count": null,
   "id": "ba8971a7-e050-40e2-8317-7c73a7f6af49",
   "metadata": {},
   "outputs": [],
   "source": [
    "from diffusers import StableDiffusionPipeline, EulerDiscreteScheduler"
   ]
  },
  {
   "cell_type": "markdown",
   "id": "7e28db40-449d-4adc-923c-6cb152a97959",
   "metadata": {
    "jp-MarkdownHeadingCollapsed": true,
    "tags": []
   },
   "source": [
    "# Set up model and pipeline"
   ]
  },
  {
   "cell_type": "code",
   "execution_count": null,
   "id": "dff1382a-0862-49f4-baa0-6066f85ca691",
   "metadata": {},
   "outputs": [],
   "source": [
    "model_id = \"stabilityai/stable-diffusion-2-1\""
   ]
  },
  {
   "cell_type": "code",
   "execution_count": null,
   "id": "b3034b64-fa13-4b84-943f-a15983b45e0d",
   "metadata": {},
   "outputs": [],
   "source": [
    "scheduler = EulerDiscreteScheduler.from_pretrained(model_id, subfolder=\"scheduler\")\n",
    "pipe = StableDiffusionPipeline.from_pretrained(model_id, scheduler=scheduler, torch_dtype=torch.float16)\n",
    "pipe = pipe.to(\"cuda\")"
   ]
  },
  {
   "cell_type": "markdown",
   "id": "9a92d8e5-3028-4184-8479-710e8222c950",
   "metadata": {
    "jp-MarkdownHeadingCollapsed": true,
    "tags": []
   },
   "source": [
    "# Image generation"
   ]
  },
  {
   "cell_type": "code",
   "execution_count": null,
   "id": "2258fdb0-65ec-454c-988f-894fba3f375e",
   "metadata": {},
   "outputs": [],
   "source": [
    "prompt = \"\"\"a university student riding a horse, \n",
    "concept art, hyper detailed, volumetric lighting, octane render, \n",
    "4 k resolution, octane rendered\n",
    "\"\"\""
   ]
  },
  {
   "cell_type": "code",
   "execution_count": null,
   "id": "53c674e6-3570-4565-9e99-28e42ecc0515",
   "metadata": {},
   "outputs": [],
   "source": [
    "images = pipe(prompt, num_images_per_prompt=2)"
   ]
  },
  {
   "cell_type": "code",
   "execution_count": null,
   "id": "24620f03-1265-47f7-8c3b-4537f5e1bc38",
   "metadata": {},
   "outputs": [],
   "source": [
    "images"
   ]
  },
  {
   "cell_type": "code",
   "execution_count": null,
   "id": "a66c7e13-239a-4b57-9d19-35687055b5f4",
   "metadata": {},
   "outputs": [],
   "source": [
    "for image in images.images:\n",
    "    display.display(image)"
   ]
  },
  {
   "cell_type": "markdown",
   "id": "8974d445-d183-4427-860d-93036fc9fc50",
   "metadata": {
    "tags": []
   },
   "source": [
    "# A simple application"
   ]
  },
  {
   "cell_type": "markdown",
   "id": "b2c8c837",
   "metadata": {},
   "source": [
    "## Setup"
   ]
  },
  {
   "cell_type": "code",
   "execution_count": null,
   "id": "175be992-9b54-4443-a6d3-b28314fe627f",
   "metadata": {},
   "outputs": [],
   "source": [
    "def predict(prompt):\n",
    "    image = pipe(prompt)\n",
    "    return image.images[0]"
   ]
  },
  {
   "cell_type": "code",
   "execution_count": null,
   "id": "f6e3a55f-2f87-4932-8b0d-00654818639d",
   "metadata": {},
   "outputs": [],
   "source": [
    "import gradio as gr"
   ]
  },
  {
   "cell_type": "code",
   "execution_count": null,
   "id": "0f0e28da",
   "metadata": {},
   "outputs": [],
   "source": [
    "examples = [\n",
    "    [\"\"\"a photo of a university student riding a horse and cart on mars carrying a coffee cup, \n",
    "    concept art, volumetric lighting, octane render, 4 k resolution, \n",
    "    trending on artstation, masterpiece\"\"\"],\n",
    "    [\"\"\"\n",
    "    a highly detailed matte painting of a single \n",
    "    gas station with a sign in the fog by studio ghibli, \n",
    "    makoto shinkai, by artgerm, by wlop, by greg rutkowski, \n",
    "    volumetric lighting, octane render, 4 k resolution, \n",
    "    trending on artstation, masterpiece \"\"\"] # example from https://prompthero.com/prompt/e94eea22546\n",
    "]"
   ]
  },
  {
   "cell_type": "markdown",
   "id": "44df8089",
   "metadata": {},
   "source": [
    "## Application"
   ]
  },
  {
   "cell_type": "code",
   "execution_count": null,
   "id": "3a7f1ab0-1c8f-42ce-91d9-4fa39b9f3be7",
   "metadata": {},
   "outputs": [],
   "source": [
    "gr.Interface(fn=predict, title=\"Stable Diffusion app\", \n",
    "             inputs=\"text\", outputs=gr.Image(shape=(512, 512)), \n",
    "             examples=examples).launch(share=True)"
   ]
  },
  {
   "cell_type": "code",
   "execution_count": null,
   "id": "d89628c5-4004-4300-abe6-5367b08db4d3",
   "metadata": {},
   "outputs": [],
   "source": []
  }
 ],
 "metadata": {
  "kernelspec": {
   "display_name": "huggingface",
   "language": "python",
   "name": "huggingface"
  },
  "language_info": {
   "codemirror_mode": {
    "name": "ipython",
    "version": 3
   },
   "file_extension": ".py",
   "mimetype": "text/x-python",
   "name": "python",
   "nbconvert_exporter": "python",
   "pygments_lexer": "ipython3",
   "version": "3.9.15"
  }
 },
 "nbformat": 4,
 "nbformat_minor": 5
}
